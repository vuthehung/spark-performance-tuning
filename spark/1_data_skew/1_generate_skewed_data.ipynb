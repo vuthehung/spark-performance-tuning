{
 "cells": [
  {
   "cell_type": "markdown",
   "id": "5718a654",
   "metadata": {},
   "source": [
    "# Generate Skewed Data "
   ]
  },
  {
   "cell_type": "markdown",
   "id": "53a2a187",
   "metadata": {},
   "source": [
    "## Import Modules"
   ]
  },
  {
   "cell_type": "code",
   "execution_count": 1,
   "id": "1e16de6f",
   "metadata": {},
   "outputs": [],
   "source": [
    "from pyspark.sql import SparkSession\n",
    "import pyspark.sql.functions as F\n",
    "from pyspark.sql import Window\n",
    "from pyspark.sql.functions import udf\n",
    "from pyspark.sql.types import *\n",
    "\n",
    "from IPython.core.interactiveshell import InteractiveShell\n",
    "InteractiveShell.ast_node_interactivity = \"all\"\n",
    "\n",
    "import random\n",
    "import warnings\n",
    "warnings.filterwarnings('ignore')\n",
    "warnings.simplefilter('ignore')"
   ]
  },
  {
   "cell_type": "code",
   "execution_count": 2,
   "id": "efbcbf2d",
   "metadata": {},
   "outputs": [
    {
     "name": "stderr",
     "output_type": "stream",
     "text": [
      "23/06/30 15:38:02 WARN Utils: Your hostname, Afaques-MacBook-Pro.local resolves to a loopback address: 127.0.0.1; using 10.0.0.2 instead (on interface en0)\n",
      "23/06/30 15:38:02 WARN Utils: Set SPARK_LOCAL_IP if you need to bind to another address\n",
      "23/06/30 15:38:02 WARN NativeCodeLoader: Unable to load native-hadoop library for your platform... using builtin-java classes where applicable\n",
      "Using Spark's default log4j profile: org/apache/spark/log4j-defaults.properties\n",
      "Setting default log level to \"WARN\".\n",
      "To adjust logging level use sc.setLogLevel(newLevel). For SparkR, use setLogLevel(newLevel).\n",
      "23/06/30 15:38:03 WARN Utils: Service 'SparkUI' could not bind on port 4040. Attempting port 4041.\n"
     ]
    }
   ],
   "source": [
    "spark = (\n",
    "    SparkSession\n",
    "    .builder\n",
    "    .config(\"spark.driver.memory\", \"8g\")\n",
    "    .config(\"spark.driver.cores\", \"4\")\n",
    "    .getOrCreate()\n",
    ")\n",
    "\n",
    "sc = spark.sparkContext\n",
    "sc.setLogLevel(\"ERROR\")"
   ]
  },
  {
   "cell_type": "markdown",
   "id": "99884a03",
   "metadata": {},
   "source": [
    "# Setting Up Transactions Data"
   ]
  },
  {
   "cell_type": "code",
   "execution_count": 3,
   "id": "9ca8eeca",
   "metadata": {},
   "outputs": [],
   "source": [
    "customers_file = \"../../data/data_skew/raw_customers.csv\"\n",
    "txns_file = \"../../data/data_skew/raw_transactions.csv\""
   ]
  },
  {
   "cell_type": "code",
   "execution_count": 4,
   "id": "8483744f",
   "metadata": {},
   "outputs": [
    {
     "name": "stderr",
     "output_type": "stream",
     "text": [
      "                                                                                \r"
     ]
    }
   ],
   "source": [
    "df_raw_txns = spark.read.csv(txns_file, header=True)"
   ]
  },
  {
   "cell_type": "code",
   "execution_count": 5,
   "id": "d8bf2447",
   "metadata": {},
   "outputs": [
    {
     "name": "stdout",
     "output_type": "stream",
     "text": [
      "root\n",
      " |-- CUST_ID: string (nullable = true)\n",
      " |-- START_DATE: string (nullable = true)\n",
      " |-- END_DATE: string (nullable = true)\n",
      " |-- TRANS_ID: string (nullable = true)\n",
      " |-- DATE: string (nullable = true)\n",
      " |-- YEAR: string (nullable = true)\n",
      " |-- MONTH: string (nullable = true)\n",
      " |-- DAY: string (nullable = true)\n",
      " |-- EXP_TYPE: string (nullable = true)\n",
      " |-- AMOUNT: string (nullable = true)\n",
      "\n",
      "+----------+----------+--------+---------------+----------+----+-----+---+------------+------+\n",
      "|CUST_ID   |START_DATE|END_DATE|TRANS_ID       |DATE      |YEAR|MONTH|DAY|EXP_TYPE    |AMOUNT|\n",
      "+----------+----------+--------+---------------+----------+----+-----+---+------------+------+\n",
      "|CI6XLYUMQK|2015-05-01|null    |T8I9ZB5A6X90UG8|2015-09-11|2015|9    |11 |Motor/Travel|20.27 |\n",
      "|CI6XLYUMQK|2015-05-01|null    |TZ4JSLS7SC7FO9H|2017-02-08|2017|2    |8  |Motor/Travel|12.85 |\n",
      "|CI6XLYUMQK|2015-05-01|null    |TTUKRDDJ6B6F42H|2015-08-01|2015|8    |1  |Housing     |383.8 |\n",
      "+----------+----------+--------+---------------+----------+----+-----+---+------------+------+\n",
      "only showing top 3 rows\n",
      "\n"
     ]
    }
   ],
   "source": [
    "df_raw_txns.printSchema()\n",
    "df_raw_txns.show(3, False)"
   ]
  },
  {
   "cell_type": "code",
   "execution_count": 6,
   "id": "e29545d6",
   "metadata": {},
   "outputs": [],
   "source": [
    "df_txns = (\n",
    "    df_raw_txns.withColumnRenamed(\"CUST_ID\", \"cust_id\")\n",
    "    .withColumnRenamed(\"START_DATE\", \"start_date\")\n",
    "    .withColumnRenamed(\"END_DATE\", \"end_date\")\n",
    "    .withColumnRenamed(\"TRANS_ID\", \"txn_id\")\n",
    "    .withColumnRenamed(\"DATE\", \"date\")\n",
    "    .withColumnRenamed(\"YEAR\", \"year\")\n",
    "    .withColumnRenamed(\"MONTH\", \"month\")\n",
    "    .withColumnRenamed(\"DAY\", \"day\")\n",
    "    .withColumnRenamed(\"EXP_TYPE\", \"expense_type\")\n",
    "    .withColumnRenamed(\"AMOUNT\", \"amt\")\n",
    ")"
   ]
  },
  {
   "cell_type": "code",
   "execution_count": 7,
   "id": "615394d5",
   "metadata": {},
   "outputs": [
    {
     "name": "stdout",
     "output_type": "stream",
     "text": [
      "root\n",
      " |-- cust_id: string (nullable = true)\n",
      " |-- start_date: string (nullable = true)\n",
      " |-- end_date: string (nullable = true)\n",
      " |-- txn_id: string (nullable = true)\n",
      " |-- date: string (nullable = true)\n",
      " |-- year: string (nullable = true)\n",
      " |-- month: string (nullable = true)\n",
      " |-- day: string (nullable = true)\n",
      " |-- expense_type: string (nullable = true)\n",
      " |-- amt: string (nullable = true)\n",
      "\n",
      "+----------+----------+--------+---------------+----------+----+-----+---+------------+-----+\n",
      "|cust_id   |start_date|end_date|txn_id         |date      |year|month|day|expense_type|amt  |\n",
      "+----------+----------+--------+---------------+----------+----+-----+---+------------+-----+\n",
      "|CI6XLYUMQK|2015-05-01|null    |T8I9ZB5A6X90UG8|2015-09-11|2015|9    |11 |Motor/Travel|20.27|\n",
      "|CI6XLYUMQK|2015-05-01|null    |TZ4JSLS7SC7FO9H|2017-02-08|2017|2    |8  |Motor/Travel|12.85|\n",
      "|CI6XLYUMQK|2015-05-01|null    |TTUKRDDJ6B6F42H|2015-08-01|2015|8    |1  |Housing     |383.8|\n",
      "+----------+----------+--------+---------------+----------+----+-----+---+------------+-----+\n",
      "only showing top 3 rows\n",
      "\n"
     ]
    }
   ],
   "source": [
    "df_txns.printSchema()\n",
    "df_txns.show(3, False)"
   ]
  },
  {
   "cell_type": "markdown",
   "id": "4463ab74",
   "metadata": {},
   "source": [
    "# Setting Up Customer Data"
   ]
  },
  {
   "cell_type": "code",
   "execution_count": 8,
   "id": "7a8b5380",
   "metadata": {},
   "outputs": [],
   "source": [
    "df_customer_det = spark.read.csv(customers_file, header=True)"
   ]
  },
  {
   "cell_type": "code",
   "execution_count": 9,
   "id": "5ab02c36",
   "metadata": {},
   "outputs": [
    {
     "name": "stdout",
     "output_type": "stream",
     "text": [
      "root\n",
      " |-- name: string (nullable = true)\n",
      " |-- age: string (nullable = true)\n",
      " |-- gender: string (nullable = true)\n",
      " |-- birthday: string (nullable = true)\n",
      " |-- zip: string (nullable = true)\n",
      "\n",
      "+--------------+---+------+---------+-----+\n",
      "|name          |age|gender|birthday |zip  |\n",
      "+--------------+---+------+---------+-----+\n",
      "|Carolyn Mathis|63 |Male  |3/7/1975 |49241|\n",
      "|Anthony Lamb  |30 |Female|6/25/1987|37320|\n",
      "|Eliza Bryan   |20 |Male  |9/13/1985|12568|\n",
      "+--------------+---+------+---------+-----+\n",
      "only showing top 3 rows\n",
      "\n"
     ]
    }
   ],
   "source": [
    "df_customer_det.printSchema()\n",
    "df_customer_det.show(3, False)"
   ]
  },
  {
   "cell_type": "code",
   "execution_count": 10,
   "id": "a494f51f",
   "metadata": {},
   "outputs": [],
   "source": [
    "df_top5k_customers = (\n",
    "    df_txns\n",
    "    .groupBy(\"cust_id\")\n",
    "    .agg(F.countDistinct(\"txn_id\").alias(\"distinct_txns\"))\n",
    "    .orderBy(F.desc(\"distinct_txns\"))\n",
    "    .limit(5000)\n",
    "    .withColumn(\"row_id\", F.row_number().over(Window.orderBy(\"cust_id\")))\n",
    ")"
   ]
  },
  {
   "cell_type": "code",
   "execution_count": 11,
   "id": "56c93af8",
   "metadata": {},
   "outputs": [],
   "source": [
    "df_customer_det = df_customer_det.withColumn(\"row_id\", F.row_number().over(Window.orderBy(\"name\")))\n",
    "df_customer_identity = df_top5k_customers.join(df_customer_det, \"row_id\").drop(\"row_id\")"
   ]
  },
  {
   "cell_type": "code",
   "execution_count": 12,
   "id": "256a0784",
   "metadata": {},
   "outputs": [
    {
     "name": "stdout",
     "output_type": "stream",
     "text": [
      "root\n",
      " |-- cust_id: string (nullable = true)\n",
      " |-- distinct_txns: long (nullable = false)\n",
      " |-- name: string (nullable = true)\n",
      " |-- age: string (nullable = true)\n",
      " |-- gender: string (nullable = true)\n",
      " |-- birthday: string (nullable = true)\n",
      " |-- zip: string (nullable = true)\n",
      "\n"
     ]
    },
    {
     "name": "stderr",
     "output_type": "stream",
     "text": [
      "                                                                                \r"
     ]
    },
    {
     "name": "stdout",
     "output_type": "stream",
     "text": [
      "+----------+-------------+-------------+---+------+----------+-----+\n",
      "|cust_id   |distinct_txns|name         |age|gender|birthday  |zip  |\n",
      "+----------+-------------+-------------+---+------+----------+-----+\n",
      "|C007YEYTX9|7445         |Aaron Abbott |34 |Female|7/13/1991 |97823|\n",
      "|C00B971T1J|7532         |Aaron Austin |37 |Female|12/16/2004|30332|\n",
      "|C00WRSJF1Q|7777         |Aaron Barnes |29 |Female|3/11/1977 |23451|\n",
      "|C01AZWQMF3|7548         |Aaron Barrett|31 |Male  |7/9/1998  |46613|\n",
      "|C01BKUFRHA|7401         |Aaron Becker |54 |Male  |11/24/1979|40284|\n",
      "+----------+-------------+-------------+---+------+----------+-----+\n",
      "only showing top 5 rows\n",
      "\n"
     ]
    },
    {
     "name": "stderr",
     "output_type": "stream",
     "text": [
      "                                                                                \r"
     ]
    },
    {
     "data": {
      "text/plain": [
       "5000"
      ]
     },
     "execution_count": 12,
     "metadata": {},
     "output_type": "execute_result"
    },
    {
     "name": "stderr",
     "output_type": "stream",
     "text": [
      "                                                                                \r"
     ]
    },
    {
     "data": {
      "text/plain": [
       "5000"
      ]
     },
     "execution_count": 12,
     "metadata": {},
     "output_type": "execute_result"
    }
   ],
   "source": [
    "df_customer_identity.printSchema()\n",
    "df_customer_identity.show(5, False)\n",
    "df_customer_identity.select(\"cust_id\").distinct().count()\n",
    "df_customer_identity.count()"
   ]
  },
  {
   "cell_type": "code",
   "execution_count": 13,
   "id": "3dbc06c4",
   "metadata": {},
   "outputs": [],
   "source": [
    "def assign_city():\n",
    "    cities = [\n",
    "        'san_francisco', 'new_york', 'chicago', 'philadelphia', \n",
    "        'boston', 'seattle', 'san_diego', 'los_angeles', \n",
    "        'denver', 'portland'\n",
    "    ]\n",
    "    return random.choice(cities)\n",
    "\n",
    "assign_city_udf = udf(assign_city, StringType())"
   ]
  },
  {
   "cell_type": "code",
   "execution_count": 14,
   "id": "606b3447",
   "metadata": {},
   "outputs": [],
   "source": [
    "df_customer_identity = (\n",
    "    df_customer_identity.withColumn(\n",
    "        \"city\",\n",
    "        assign_city_udf()\n",
    "    )\n",
    ")"
   ]
  },
  {
   "cell_type": "code",
   "execution_count": 15,
   "id": "7948dc2d",
   "metadata": {},
   "outputs": [
    {
     "name": "stderr",
     "output_type": "stream",
     "text": [
      "                                                                                \r"
     ]
    },
    {
     "name": "stdout",
     "output_type": "stream",
     "text": [
      "+----------+-------------+-------------+---+------+----------+-----+------------+\n",
      "|cust_id   |distinct_txns|name         |age|gender|birthday  |zip  |city        |\n",
      "+----------+-------------+-------------+---+------+----------+-----+------------+\n",
      "|C007YEYTX9|7445         |Aaron Abbott |34 |Female|7/13/1991 |97823|denver      |\n",
      "|C00B971T1J|7532         |Aaron Austin |37 |Female|12/16/2004|30332|portland    |\n",
      "|C00WRSJF1Q|7777         |Aaron Barnes |29 |Female|3/11/1977 |23451|philadelphia|\n",
      "|C01AZWQMF3|7548         |Aaron Barrett|31 |Male  |7/9/1998  |46613|philadelphia|\n",
      "|C01BKUFRHA|7401         |Aaron Becker |54 |Male  |11/24/1979|40284|boston      |\n",
      "|C01RGUNJV9|8280         |Aaron Bell   |24 |Female|8/16/1968 |86331|los_angeles |\n",
      "|C01USDV4EE|7177         |Aaron Blair  |35 |Female|9/9/1974  |80078|philadelphia|\n",
      "|C01WMZQ7PN|8617         |Aaron Brady  |51 |Female|8/20/1994 |52204|portland    |\n",
      "|C021567NJZ|7260         |Aaron Briggs |57 |Male  |3/10/1990 |22008|new_york    |\n",
      "|C023M6MKR3|7210         |Aaron Bryan  |29 |Male  |4/10/1976 |05915|new_york    |\n",
      "+----------+-------------+-------------+---+------+----------+-----+------------+\n",
      "only showing top 10 rows\n",
      "\n"
     ]
    }
   ],
   "source": [
    "df_customer_identity.show(10, False)"
   ]
  },
  {
   "cell_type": "markdown",
   "id": "82a81258",
   "metadata": {},
   "source": [
    "# Write Customer Data"
   ]
  },
  {
   "cell_type": "code",
   "execution_count": 16,
   "id": "b1863726",
   "metadata": {},
   "outputs": [
    {
     "name": "stderr",
     "output_type": "stream",
     "text": [
      "                                                                                \r"
     ]
    }
   ],
   "source": [
    "(\n",
    "    df_customer_identity\n",
    "    .drop(\"distinct_txns\")\n",
    "    .write\n",
    "    .mode(\"overwrite\")\n",
    "    .parquet(\"../../data/data_skew/customers.parquet\")\n",
    ")"
   ]
  },
  {
   "cell_type": "markdown",
   "id": "2ad37f19",
   "metadata": {},
   "source": [
    "# Write Skewed Transaction Data"
   ]
  },
  {
   "cell_type": "code",
   "execution_count": 17,
   "id": "579febe4",
   "metadata": {},
   "outputs": [],
   "source": [
    "# df_top10k_customers.filter(F.col(\"distinct_txns\") >= 7000).distinct().count()"
   ]
  },
  {
   "cell_type": "code",
   "execution_count": 18,
   "id": "badb8784",
   "metadata": {},
   "outputs": [],
   "source": [
    "df_transactions = df_txns.join(\n",
    "    df_top5k_customers,\n",
    "    on=\"cust_id\",\n",
    "    how=\"inner\"\n",
    ").withColumn(\n",
    "    \"cust_id\", \n",
    "    F.when(\n",
    "        F.col(\"distinct_txns\") >= 8000, F.lit(\"C0YDPQWPBJ\")\n",
    "    ).otherwise(F.col(\"cust_id\"))\n",
    ")"
   ]
  },
  {
   "cell_type": "code",
   "execution_count": 19,
   "id": "08fa5108",
   "metadata": {},
   "outputs": [],
   "source": [
    "df_transactions = (\n",
    "    df_transactions.withColumn(\n",
    "        \"city\",\n",
    "        assign_city_udf()\n",
    "    )\n",
    ")"
   ]
  },
  {
   "cell_type": "code",
   "execution_count": 20,
   "id": "a84a5cee",
   "metadata": {},
   "outputs": [
    {
     "name": "stderr",
     "output_type": "stream",
     "text": [
      "                                                                                \r"
     ]
    },
    {
     "name": "stdout",
     "output_type": "stream",
     "text": [
      "+----------+--------+\n",
      "|cust_id   |count   |\n",
      "+----------+--------+\n",
      "|C0YDPQWPBJ|17539732|\n",
      "|CBW3FMEAU7|7999    |\n",
      "|C3KUDEN3KO|7999    |\n",
      "|C89FCEGPJP|7999    |\n",
      "|CHNFNR89ZV|7998    |\n",
      "+----------+--------+\n",
      "only showing top 5 rows\n",
      "\n"
     ]
    },
    {
     "data": {
      "text/plain": [
       "DataFrame[cust_id: string, start_date: string, end_date: string, txn_id: string, date: string, year: string, month: string, day: string, expense_type: string, amt: string, distinct_txns: bigint, row_id: int, city: string]"
      ]
     },
     "execution_count": 20,
     "metadata": {},
     "output_type": "execute_result"
    }
   ],
   "source": [
    "df_transactions.groupBy(\"cust_id\").count().orderBy(F.desc(\"count\")).show(5, False)\n",
    "df_transactions.cache()"
   ]
  },
  {
   "cell_type": "code",
   "execution_count": 21,
   "id": "6e10db99",
   "metadata": {},
   "outputs": [
    {
     "name": "stdout",
     "output_type": "stream",
     "text": [
      "root\n",
      " |-- cust_id: string (nullable = true)\n",
      " |-- start_date: string (nullable = true)\n",
      " |-- end_date: string (nullable = true)\n",
      " |-- txn_id: string (nullable = true)\n",
      " |-- date: string (nullable = true)\n",
      " |-- year: string (nullable = true)\n",
      " |-- month: string (nullable = true)\n",
      " |-- day: string (nullable = true)\n",
      " |-- expense_type: string (nullable = true)\n",
      " |-- amt: string (nullable = true)\n",
      " |-- distinct_txns: long (nullable = false)\n",
      " |-- row_id: integer (nullable = true)\n",
      " |-- city: string (nullable = true)\n",
      "\n"
     ]
    }
   ],
   "source": [
    "df_transactions.printSchema()"
   ]
  },
  {
   "cell_type": "code",
   "execution_count": 22,
   "id": "06225044",
   "metadata": {},
   "outputs": [
    {
     "name": "stderr",
     "output_type": "stream",
     "text": [
      "                                                                                \r"
     ]
    },
    {
     "name": "stdout",
     "output_type": "stream",
     "text": [
      "+----------+-------------+-------+\n",
      "|cust_id   |city         |count  |\n",
      "+----------+-------------+-------+\n",
      "|C0YDPQWPBJ|portland     |1756379|\n",
      "|C0YDPQWPBJ|los_angeles  |1755910|\n",
      "|C0YDPQWPBJ|denver       |1755398|\n",
      "|C0YDPQWPBJ|san_francisco|1754952|\n",
      "|C0YDPQWPBJ|seattle      |1754184|\n",
      "|C0YDPQWPBJ|chicago      |1753398|\n",
      "|C0YDPQWPBJ|boston       |1752906|\n",
      "|C0YDPQWPBJ|san_diego    |1752767|\n",
      "|C0YDPQWPBJ|philadelphia |1752140|\n",
      "|C0YDPQWPBJ|new_york     |1751698|\n",
      "|C4XLI291DF|denver       |877    |\n",
      "|COYZEFEC9N|portland     |876    |\n",
      "|CLU2H1C3GZ|portland     |874    |\n",
      "|CNT7TK3O4N|new_york     |873    |\n",
      "|CJJ0NUQIUD|chicago      |873    |\n",
      "|C41YIKBMNX|los_angeles  |870    |\n",
      "|CDSOKODPKL|chicago      |867    |\n",
      "|CMMS3KUZ6S|philadelphia |867    |\n",
      "|C3S3XFH3L3|portland     |866    |\n",
      "|CZVAF6O8HI|san_francisco|865    |\n",
      "+----------+-------------+-------+\n",
      "only showing top 20 rows\n",
      "\n"
     ]
    }
   ],
   "source": [
    "df_transactions.groupBy(\"cust_id\", \"city\").count().orderBy(F.desc(\"count\")).show(20, False)"
   ]
  },
  {
   "cell_type": "code",
   "execution_count": 23,
   "id": "7e957bb0",
   "metadata": {},
   "outputs": [],
   "source": [
    "# Checks to validate if data is sane\n",
    "\n",
    "# df_transactions.select(\"cust_id\").distinct().count()\n",
    "# df_transactions.select(\"txn_id\").distinct().count()\n",
    "# df_transactions.count()"
   ]
  },
  {
   "cell_type": "code",
   "execution_count": 24,
   "id": "277d32cc",
   "metadata": {},
   "outputs": [
    {
     "name": "stderr",
     "output_type": "stream",
     "text": [
      "                                                                                \r"
     ]
    }
   ],
   "source": [
    "(\n",
    "    df_transactions\n",
    "    .drop(\"distinct_txns\", \"row_id\")\n",
    "    .write\n",
    "    .mode(\"overwrite\")\n",
    "    .parquet(\"../../data/data_skew/transactions.parquet\")\n",
    ")"
   ]
  },
  {
   "cell_type": "code",
   "execution_count": 25,
   "id": "d378602e",
   "metadata": {},
   "outputs": [],
   "source": [
    "# df_transactions_test = spark.read.parquet(\"../../data/data_skew/transactions.parquet\")"
   ]
  },
  {
   "cell_type": "code",
   "execution_count": 26,
   "id": "4ff6eae8",
   "metadata": {},
   "outputs": [],
   "source": [
    "# Checks to validate if data is sane\n",
    "\n",
    "# (\n",
    "#     df_transactions_test\n",
    "#     .groupBy(\"cust_id\")\n",
    "#     .agg(F.countDistinct(\"txn_id\").alias(\"ct\"))\n",
    "#     .orderBy(F.desc(\"ct\"))\n",
    "#     .show(20, False)\n",
    "# )"
   ]
  },
  {
   "cell_type": "code",
   "execution_count": 27,
   "id": "faeac8ee",
   "metadata": {},
   "outputs": [],
   "source": [
    "spark.stop()"
   ]
  }
 ],
 "metadata": {
  "kernelspec": {
   "display_name": "Python 3 (ipykernel)",
   "language": "python",
   "name": "python3"
  },
  "language_info": {
   "codemirror_mode": {
    "name": "ipython",
    "version": 3
   },
   "file_extension": ".py",
   "mimetype": "text/x-python",
   "name": "python",
   "nbconvert_exporter": "python",
   "pygments_lexer": "ipython3",
   "version": "3.8.16"
  }
 },
 "nbformat": 4,
 "nbformat_minor": 5
}
